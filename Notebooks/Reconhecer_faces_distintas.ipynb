{
 "cells": [
  {
   "cell_type": "code",
   "execution_count": 1,
   "id": "impaired-patch",
   "metadata": {},
   "outputs": [
    {
     "name": "stdout",
     "output_type": "stream",
     "text": [
      "Requirement already satisfied: numpy in c:\\users\\rodri\\pycharmprojects\\reconhecimentofacial\\venv\\lib\\site-packages (1.20.1)\n",
      "Note: you may need to restart the kernel to use updated packages.\n"
     ]
    }
   ],
   "source": [
    "pip install numpy"
   ]
  },
  {
   "cell_type": "code",
   "execution_count": 2,
   "id": "independent-webmaster",
   "metadata": {},
   "outputs": [
    {
     "name": "stdout",
     "output_type": "stream",
     "text": [
      "Collecting Pillow==2.2.1\n",
      "  Downloading Pillow-2.2.1.zip (2.2 MB)\n",
      "Using legacy 'setup.py install' for Pillow, since package 'wheel' is not installed.\n",
      "Installing collected packages: Pillow\n",
      "  Attempting uninstall: Pillow\n",
      "    Found existing installation: Pillow 8.1.0\n",
      "    Uninstalling Pillow-8.1.0:\n",
      "      Successfully uninstalled Pillow-8.1.0\n",
      "    Running setup.py install for Pillow: started\n",
      "    Running setup.py install for Pillow: finished with status 'error'\n",
      "  Rolling back uninstall of Pillow\n",
      "  Moving to c:\\users\\rodri\\pycharmprojects\\reconhecimentofacial\\venv\\lib\\site-packages\\pil\\\n",
      "   from c:\\users\\rodri\\pycharmprojects\\reconhecimentofacial\\venv\\lib\\site-packages\\~il\n",
      "  Moving to c:\\users\\rodri\\pycharmprojects\\reconhecimentofacial\\venv\\lib\\site-packages\\pillow-8.1.0.dist-info\\\n",
      "   from c:\\users\\rodri\\pycharmprojects\\reconhecimentofacial\\venv\\lib\\site-packages\\~illow-8.1.0.dist-info\n",
      "Note: you may need to restart the kernel to use updated packages.\n"
     ]
    },
    {
     "name": "stderr",
     "output_type": "stream",
     "text": [
      "    ERROR: Command errored out with exit status 1:\n",
      "     command: 'c:\\users\\rodri\\pycharmprojects\\reconhecimentofacial\\venv\\scripts\\python.exe' -u -c 'import sys, setuptools, tokenize; sys.argv[0] = '\"'\"'C:\\\\Users\\\\rodri\\\\AppData\\\\Local\\\\Temp\\\\pip-install-fm7sv6_b\\\\pillow_2b36a73117874ad69d00e8403776e3c3\\\\setup.py'\"'\"'; __file__='\"'\"'C:\\\\Users\\\\rodri\\\\AppData\\\\Local\\\\Temp\\\\pip-install-fm7sv6_b\\\\pillow_2b36a73117874ad69d00e8403776e3c3\\\\setup.py'\"'\"';f=getattr(tokenize, '\"'\"'open'\"'\"', open)(__file__);code=f.read().replace('\"'\"'\\r\\n'\"'\"', '\"'\"'\\n'\"'\"');f.close();exec(compile(code, __file__, '\"'\"'exec'\"'\"'))' install --record 'C:\\Users\\rodri\\AppData\\Local\\Temp\\pip-record-gi68uvrf\\install-record.txt' --single-version-externally-managed --compile --install-headers 'c:\\users\\rodri\\pycharmprojects\\reconhecimentofacial\\venv\\include\\site\\python3.7\\Pillow'\n",
      "         cwd: C:\\Users\\rodri\\AppData\\Local\\Temp\\pip-install-fm7sv6_b\\pillow_2b36a73117874ad69d00e8403776e3c3\\\n",
      "    Complete output (107 lines):\n",
      "    running install\n",
      "    running build\n",
      "    running build_py\n",
      "    creating build\n",
      "    creating build\\lib.win32-3.7\n",
      "    creating build\\lib.win32-3.7\\PIL\n",
      "    copying PIL\\ArgImagePlugin.py -> build\\lib.win32-3.7\\PIL\n",
      "    copying PIL\\BdfFontFile.py -> build\\lib.win32-3.7\\PIL\n",
      "    copying PIL\\BmpImagePlugin.py -> build\\lib.win32-3.7\\PIL\n",
      "    copying PIL\\BufrStubImagePlugin.py -> build\\lib.win32-3.7\\PIL\n",
      "    copying PIL\\ContainerIO.py -> build\\lib.win32-3.7\\PIL\n",
      "    copying PIL\\CurImagePlugin.py -> build\\lib.win32-3.7\\PIL\n",
      "    copying PIL\\DcxImagePlugin.py -> build\\lib.win32-3.7\\PIL\n",
      "    copying PIL\\EpsImagePlugin.py -> build\\lib.win32-3.7\\PIL\n",
      "    copying PIL\\ExifTags.py -> build\\lib.win32-3.7\\PIL\n",
      "    copying PIL\\FitsStubImagePlugin.py -> build\\lib.win32-3.7\\PIL\n",
      "    copying PIL\\FliImagePlugin.py -> build\\lib.win32-3.7\\PIL\n",
      "    copying PIL\\FontFile.py -> build\\lib.win32-3.7\\PIL\n",
      "    copying PIL\\FpxImagePlugin.py -> build\\lib.win32-3.7\\PIL\n",
      "    copying PIL\\GbrImagePlugin.py -> build\\lib.win32-3.7\\PIL\n",
      "    copying PIL\\GdImageFile.py -> build\\lib.win32-3.7\\PIL\n",
      "    copying PIL\\GifImagePlugin.py -> build\\lib.win32-3.7\\PIL\n",
      "    copying PIL\\GimpGradientFile.py -> build\\lib.win32-3.7\\PIL\n",
      "    copying PIL\\GimpPaletteFile.py -> build\\lib.win32-3.7\\PIL\n",
      "    copying PIL\\GribStubImagePlugin.py -> build\\lib.win32-3.7\\PIL\n",
      "    copying PIL\\Hdf5StubImagePlugin.py -> build\\lib.win32-3.7\\PIL\n",
      "    copying PIL\\IcnsImagePlugin.py -> build\\lib.win32-3.7\\PIL\n",
      "    copying PIL\\IcoImagePlugin.py -> build\\lib.win32-3.7\\PIL\n",
      "    copying PIL\\Image.py -> build\\lib.win32-3.7\\PIL\n",
      "    copying PIL\\ImageChops.py -> build\\lib.win32-3.7\\PIL\n",
      "    copying PIL\\ImageCms.py -> build\\lib.win32-3.7\\PIL\n",
      "    copying PIL\\ImageColor.py -> build\\lib.win32-3.7\\PIL\n",
      "    copying PIL\\ImageDraw.py -> build\\lib.win32-3.7\\PIL\n",
      "    copying PIL\\ImageDraw2.py -> build\\lib.win32-3.7\\PIL\n",
      "    copying PIL\\ImageEnhance.py -> build\\lib.win32-3.7\\PIL\n",
      "    copying PIL\\ImageFile.py -> build\\lib.win32-3.7\\PIL\n",
      "    copying PIL\\ImageFileIO.py -> build\\lib.win32-3.7\\PIL\n",
      "    copying PIL\\ImageFilter.py -> build\\lib.win32-3.7\\PIL\n",
      "    copying PIL\\ImageFont.py -> build\\lib.win32-3.7\\PIL\n",
      "    copying PIL\\ImageGrab.py -> build\\lib.win32-3.7\\PIL\n",
      "    copying PIL\\ImageMath.py -> build\\lib.win32-3.7\\PIL\n",
      "    copying PIL\\ImageMode.py -> build\\lib.win32-3.7\\PIL\n",
      "    copying PIL\\ImageOps.py -> build\\lib.win32-3.7\\PIL\n",
      "    copying PIL\\ImagePalette.py -> build\\lib.win32-3.7\\PIL\n",
      "    copying PIL\\ImagePath.py -> build\\lib.win32-3.7\\PIL\n",
      "    copying PIL\\ImageQt.py -> build\\lib.win32-3.7\\PIL\n",
      "    copying PIL\\ImageSequence.py -> build\\lib.win32-3.7\\PIL\n",
      "    copying PIL\\ImageShow.py -> build\\lib.win32-3.7\\PIL\n",
      "    copying PIL\\ImageStat.py -> build\\lib.win32-3.7\\PIL\n",
      "    copying PIL\\ImageTk.py -> build\\lib.win32-3.7\\PIL\n",
      "    copying PIL\\ImageTransform.py -> build\\lib.win32-3.7\\PIL\n",
      "    copying PIL\\ImageWin.py -> build\\lib.win32-3.7\\PIL\n",
      "    copying PIL\\ImImagePlugin.py -> build\\lib.win32-3.7\\PIL\n",
      "    copying PIL\\ImtImagePlugin.py -> build\\lib.win32-3.7\\PIL\n",
      "    copying PIL\\IptcImagePlugin.py -> build\\lib.win32-3.7\\PIL\n",
      "    copying PIL\\JpegImagePlugin.py -> build\\lib.win32-3.7\\PIL\n",
      "    copying PIL\\JpegPresets.py -> build\\lib.win32-3.7\\PIL\n",
      "    copying PIL\\McIdasImagePlugin.py -> build\\lib.win32-3.7\\PIL\n",
      "    copying PIL\\MicImagePlugin.py -> build\\lib.win32-3.7\\PIL\n",
      "    copying PIL\\MpegImagePlugin.py -> build\\lib.win32-3.7\\PIL\n",
      "    copying PIL\\MspImagePlugin.py -> build\\lib.win32-3.7\\PIL\n",
      "    copying PIL\\OleFileIO.py -> build\\lib.win32-3.7\\PIL\n",
      "    copying PIL\\PaletteFile.py -> build\\lib.win32-3.7\\PIL\n",
      "    copying PIL\\PalmImagePlugin.py -> build\\lib.win32-3.7\\PIL\n",
      "    copying PIL\\PcdImagePlugin.py -> build\\lib.win32-3.7\\PIL\n",
      "    copying PIL\\PcfFontFile.py -> build\\lib.win32-3.7\\PIL\n",
      "    copying PIL\\PcxImagePlugin.py -> build\\lib.win32-3.7\\PIL\n",
      "    copying PIL\\PdfImagePlugin.py -> build\\lib.win32-3.7\\PIL\n",
      "    copying PIL\\PixarImagePlugin.py -> build\\lib.win32-3.7\\PIL\n",
      "    copying PIL\\PngImagePlugin.py -> build\\lib.win32-3.7\\PIL\n",
      "    copying PIL\\PpmImagePlugin.py -> build\\lib.win32-3.7\\PIL\n",
      "    copying PIL\\PsdImagePlugin.py -> build\\lib.win32-3.7\\PIL\n",
      "    copying PIL\\PSDraw.py -> build\\lib.win32-3.7\\PIL\n",
      "    copying PIL\\SgiImagePlugin.py -> build\\lib.win32-3.7\\PIL\n",
      "    copying PIL\\SpiderImagePlugin.py -> build\\lib.win32-3.7\\PIL\n",
      "    copying PIL\\SunImagePlugin.py -> build\\lib.win32-3.7\\PIL\n",
      "    copying PIL\\TarIO.py -> build\\lib.win32-3.7\\PIL\n",
      "    copying PIL\\tests.py -> build\\lib.win32-3.7\\PIL\n",
      "    copying PIL\\TgaImagePlugin.py -> build\\lib.win32-3.7\\PIL\n",
      "    copying PIL\\TiffImagePlugin.py -> build\\lib.win32-3.7\\PIL\n",
      "    copying PIL\\TiffTags.py -> build\\lib.win32-3.7\\PIL\n",
      "    copying PIL\\WalImageFile.py -> build\\lib.win32-3.7\\PIL\n",
      "    copying PIL\\WebPImagePlugin.py -> build\\lib.win32-3.7\\PIL\n",
      "    copying PIL\\WmfImagePlugin.py -> build\\lib.win32-3.7\\PIL\n",
      "    copying PIL\\XbmImagePlugin.py -> build\\lib.win32-3.7\\PIL\n",
      "    copying PIL\\XpmImagePlugin.py -> build\\lib.win32-3.7\\PIL\n",
      "    copying PIL\\XVThumbImagePlugin.py -> build\\lib.win32-3.7\\PIL\n",
      "    copying PIL\\_binary.py -> build\\lib.win32-3.7\\PIL\n",
      "    copying PIL\\_util.py -> build\\lib.win32-3.7\\PIL\n",
      "    copying PIL\\__init__.py -> build\\lib.win32-3.7\\PIL\n",
      "    running egg_info\n",
      "    writing Pillow.egg-info\\PKG-INFO\n",
      "    writing dependency_links to Pillow.egg-info\\dependency_links.txt\n",
      "    writing top-level names to Pillow.egg-info\\top_level.txt\n",
      "    reading manifest file 'Pillow.egg-info\\SOURCES.txt'\n",
      "    reading manifest template 'MANIFEST.in'\n",
      "    writing manifest file 'Pillow.egg-info\\SOURCES.txt'\n",
      "    running build_ext\n",
      "    building 'PIL._imaging' extension\n",
      "    creating build\\temp.win32-3.7\n",
      "    creating build\\temp.win32-3.7\\Release\n",
      "    creating build\\temp.win32-3.7\\Release\\libImaging\n",
      "    C:\\Program Files (x86)\\Microsoft Visual Studio\\2017\\Community\\VC\\Tools\\MSVC\\14.13.26128\\bin\\HostX86\\x86\\cl.exe /c /nologo /Ox /W3 /GL /DNDEBUG /MD -IlibImaging -Ic:\\users\\rodri\\pycharmprojects\\reconhecimentofacial\\venv\\include -Ic:\\users\\rodri\\pycharmprojects\\reconhecimentofacial\\venv\\include -IC:\\Users\\rodri\\AppData\\Local\\Programs\\Python\\Python37-32\\include -IC:\\Users\\rodri\\AppData\\Local\\Programs\\Python\\Python37-32\\include \"-IC:\\Program Files (x86)\\Microsoft Visual Studio\\2017\\Community\\VC\\Tools\\MSVC\\14.13.26128\\ATLMFC\\include\" \"-IC:\\Program Files (x86)\\Microsoft Visual Studio\\2017\\Community\\VC\\Tools\\MSVC\\14.13.26128\\include\" \"-IC:\\Program Files (x86)\\Windows Kits\\NETFXSDK\\4.6.1\\include\\um\" \"-IC:\\Program Files (x86)\\Windows Kits\\10\\include\\10.0.16299.0\\ucrt\" \"-IC:\\Program Files (x86)\\Windows Kits\\10\\include\\10.0.16299.0\\shared\" \"-IC:\\Program Files (x86)\\Windows Kits\\10\\include\\10.0.16299.0\\um\" \"-IC:\\Program Files (x86)\\Windows Kits\\10\\include\\10.0.16299.0\\winrt\" \"-IC:\\Program Files (x86)\\Windows Kits\\10\\include\\10.0.16299.0\\cppwinrt\" /Tc_imaging.c /Fobuild\\temp.win32-3.7\\Release\\_imaging.obj\n",
      "    _imaging.c\n",
      "    _imaging.c(834): error C2371: '_expand': redefini‡Æo; tipos b sicos diferentes\n",
      "    C:\\Program Files (x86)\\Windows Kits\\10\\include\\10.0.16299.0\\ucrt\\corecrt_malloc.h(74): note: consulte a declara‡Æo de '_expand'\n",
      "    error: command 'C:\\\\Program Files (x86)\\\\Microsoft Visual Studio\\\\2017\\\\Community\\\\VC\\\\Tools\\\\MSVC\\\\14.13.26128\\\\bin\\\\HostX86\\\\x86\\\\cl.exe' failed with exit status 2\n",
      "    ----------------------------------------\n",
      "ERROR: Command errored out with exit status 1: 'c:\\users\\rodri\\pycharmprojects\\reconhecimentofacial\\venv\\scripts\\python.exe' -u -c 'import sys, setuptools, tokenize; sys.argv[0] = '\"'\"'C:\\\\Users\\\\rodri\\\\AppData\\\\Local\\\\Temp\\\\pip-install-fm7sv6_b\\\\pillow_2b36a73117874ad69d00e8403776e3c3\\\\setup.py'\"'\"'; __file__='\"'\"'C:\\\\Users\\\\rodri\\\\AppData\\\\Local\\\\Temp\\\\pip-install-fm7sv6_b\\\\pillow_2b36a73117874ad69d00e8403776e3c3\\\\setup.py'\"'\"';f=getattr(tokenize, '\"'\"'open'\"'\"', open)(__file__);code=f.read().replace('\"'\"'\\r\\n'\"'\"', '\"'\"'\\n'\"'\"');f.close();exec(compile(code, __file__, '\"'\"'exec'\"'\"'))' install --record 'C:\\Users\\rodri\\AppData\\Local\\Temp\\pip-record-gi68uvrf\\install-record.txt' --single-version-externally-managed --compile --install-headers 'c:\\users\\rodri\\pycharmprojects\\reconhecimentofacial\\venv\\include\\site\\python3.7\\Pillow' Check the logs for full command output.\n"
     ]
    }
   ],
   "source": [
    "pip install Pillow==2.2.1"
   ]
  },
  {
   "cell_type": "code",
   "execution_count": 3,
   "id": "careful-yacht",
   "metadata": {},
   "outputs": [
    {
     "name": "stdout",
     "output_type": "stream",
     "text": [
      "Note: you may need to restart the kernel to use updated packages.\n"
     ]
    },
    {
     "name": "stderr",
     "output_type": "stream",
     "text": [
      "ERROR: Could not find a version that satisfies the requirement tensorflow\n",
      "ERROR: No matching distribution found for tensorflow\n"
     ]
    }
   ],
   "source": [
    "pip install tensorflow"
   ]
  },
  {
   "cell_type": "code",
   "execution_count": 4,
   "id": "known-revision",
   "metadata": {},
   "outputs": [
    {
     "name": "stdout",
     "output_type": "stream",
     "text": [
      "Collecting mtcnn\n",
      "  Downloading mtcnn-0.1.0-py3-none-any.whl (2.3 MB)\n",
      "Requirement already satisfied: opencv-python>=4.1.0 in c:\\users\\rodri\\pycharmprojects\\reconhecimentofacial\\venv\\lib\\site-packages (from mtcnn) (4.5.1.48)\n",
      "Collecting keras>=2.0.0\n",
      "  Downloading Keras-2.4.3-py2.py3-none-any.whl (36 kB)\n",
      "Collecting pyyaml\n",
      "  Downloading PyYAML-5.4.1-cp37-cp37m-win32.whl (193 kB)\n",
      "Collecting h5py\n",
      "  Downloading h5py-3.1.0.tar.gz (371 kB)\n",
      "  Installing build dependencies: started\n",
      "  Installing build dependencies: finished with status 'done'\n",
      "  Getting requirements to build wheel: started\n",
      "  Getting requirements to build wheel: finished with status 'done'\n",
      "  Installing backend dependencies: started\n",
      "  Installing backend dependencies: finished with status 'done'\n",
      "    Preparing wheel metadata: started\n",
      "    Preparing wheel metadata: finished with status 'done'\n",
      "Requirement already satisfied: numpy>=1.9.1 in c:\\users\\rodri\\pycharmprojects\\reconhecimentofacial\\venv\\lib\\site-packages (from keras>=2.0.0->mtcnn) (1.20.1)\n",
      "Collecting scipy>=0.14\n",
      "  Downloading scipy-1.6.1-cp37-cp37m-win32.whl (29.4 MB)\n",
      "Collecting cached-property\n",
      "  Downloading cached_property-1.5.2-py2.py3-none-any.whl (7.6 kB)\n",
      "Building wheels for collected packages: h5py\n",
      "Note: you may need to restart the kernel to use updated packages.\n"
     ]
    },
    {
     "name": "stderr",
     "output_type": "stream",
     "text": [
      "  ERROR: Command errored out with exit status 1:\n",
      "   command: 'c:\\users\\rodri\\pycharmprojects\\reconhecimentofacial\\venv\\scripts\\python.exe' 'c:\\users\\rodri\\pycharmprojects\\reconhecimentofacial\\venv\\lib\\site-packages\\pip\\_vendor\\pep517\\_in_process.py' build_wheel 'C:\\Users\\rodri\\AppData\\Local\\Temp\\tmpu7pph85f'\n",
      "       cwd: C:\\Users\\rodri\\AppData\\Local\\Temp\\pip-install-zzt4r2c4\\h5py_0320d8dc61f7451999dfdd3a347174ca\n",
      "  Complete output (70 lines):\n",
      "  running bdist_wheel\n",
      "  running build\n",
      "  running build_py\n",
      "  creating build\n",
      "  creating build\\lib.win32-3.7\n",
      "  creating build\\lib.win32-3.7\\h5py\n",
      "  copying h5py\\h5py_warnings.py -> build\\lib.win32-3.7\\h5py\n",
      "  copying h5py\\ipy_completer.py -> build\\lib.win32-3.7\\h5py\n",
      "  copying h5py\\version.py -> build\\lib.win32-3.7\\h5py\n",
      "  copying h5py\\__init__.py -> build\\lib.win32-3.7\\h5py\n",
      "  creating build\\lib.win32-3.7\\h5py\\_hl\n",
      "  copying h5py\\_hl\\attrs.py -> build\\lib.win32-3.7\\h5py\\_hl\n",
      "  copying h5py\\_hl\\base.py -> build\\lib.win32-3.7\\h5py\\_hl\n",
      "  copying h5py\\_hl\\compat.py -> build\\lib.win32-3.7\\h5py\\_hl\n",
      "  copying h5py\\_hl\\dataset.py -> build\\lib.win32-3.7\\h5py\\_hl\n",
      "  copying h5py\\_hl\\datatype.py -> build\\lib.win32-3.7\\h5py\\_hl\n",
      "  copying h5py\\_hl\\dims.py -> build\\lib.win32-3.7\\h5py\\_hl\n",
      "  copying h5py\\_hl\\files.py -> build\\lib.win32-3.7\\h5py\\_hl\n",
      "  copying h5py\\_hl\\filters.py -> build\\lib.win32-3.7\\h5py\\_hl\n",
      "  copying h5py\\_hl\\group.py -> build\\lib.win32-3.7\\h5py\\_hl\n",
      "  copying h5py\\_hl\\selections.py -> build\\lib.win32-3.7\\h5py\\_hl\n",
      "  copying h5py\\_hl\\selections2.py -> build\\lib.win32-3.7\\h5py\\_hl\n",
      "  copying h5py\\_hl\\vds.py -> build\\lib.win32-3.7\\h5py\\_hl\n",
      "  copying h5py\\_hl\\__init__.py -> build\\lib.win32-3.7\\h5py\\_hl\n",
      "  creating build\\lib.win32-3.7\\h5py\\tests\n",
      "  copying h5py\\tests\\common.py -> build\\lib.win32-3.7\\h5py\\tests"
     ]
    },
    {
     "name": "stdout",
     "output_type": "stream",
     "text": [
      "  Building wheel for h5py (PEP 517): started\n",
      "  Building wheel for h5py (PEP 517): finished with status 'error'\n",
      "Failed to build h5py\n"
     ]
    },
    {
     "name": "stderr",
     "output_type": "stream",
     "text": [
      "\n",
      "  copying h5py\\tests\\conftest.py -> build\\lib.win32-3.7\\h5py\\tests\n",
      "  copying h5py\\tests\\test_attribute_create.py -> build\\lib.win32-3.7\\h5py\\tests\n",
      "  copying h5py\\tests\\test_attrs.py -> build\\lib.win32-3.7\\h5py\\tests\n",
      "  copying h5py\\tests\\test_attrs_data.py -> build\\lib.win32-3.7\\h5py\\tests\n",
      "  copying h5py\\tests\\test_base.py -> build\\lib.win32-3.7\\h5py\\tests\n",
      "  copying h5py\\tests\\test_big_endian_file.py -> build\\lib.win32-3.7\\h5py\\tests\n",
      "  copying h5py\\tests\\test_completions.py -> build\\lib.win32-3.7\\h5py\\tests\n",
      "  copying h5py\\tests\\test_dataset.py -> build\\lib.win32-3.7\\h5py\\tests\n",
      "  copying h5py\\tests\\test_dataset_getitem.py -> build\\lib.win32-3.7\\h5py\\tests\n",
      "  copying h5py\\tests\\test_dataset_swmr.py -> build\\lib.win32-3.7\\h5py\\tests\n",
      "  copying h5py\\tests\\test_datatype.py -> build\\lib.win32-3.7\\h5py\\tests\n",
      "  copying h5py\\tests\\test_dimension_scales.py -> build\\lib.win32-3.7\\h5py\\tests\n",
      "  copying h5py\\tests\\test_dims_dimensionproxy.py -> build\\lib.win32-3.7\\h5py\\tests\n",
      "  copying h5py\\tests\\test_dtype.py -> build\\lib.win32-3.7\\h5py\\tests\n",
      "  copying h5py\\tests\\test_errors.py -> build\\lib.win32-3.7\\h5py\\tests\n",
      "  copying h5py\\tests\\test_file.py -> build\\lib.win32-3.7\\h5py\\tests\n",
      "  copying h5py\\tests\\test_file2.py -> build\\lib.win32-3.7\\h5py\\tests\n",
      "  copying h5py\\tests\\test_file_image.py -> build\\lib.win32-3.7\\h5py\\tests\n",
      "  copying h5py\\tests\\test_filters.py -> build\\lib.win32-3.7\\h5py\\tests\n",
      "  copying h5py\\tests\\test_group.py -> build\\lib.win32-3.7\\h5py\\tests\n",
      "  copying h5py\\tests\\test_h5.py -> build\\lib.win32-3.7\\h5py\\tests\n",
      "  copying h5py\\tests\\test_h5d_direct_chunk.py -> build\\lib.win32-3.7\\h5py\\tests\n",
      "  copying h5py\\tests\\test_h5f.py -> build\\lib.win32-3.7\\h5py\\tests\n",
      "  copying h5py\\tests\\test_h5p.py -> build\\lib.win32-3.7\\h5py\\tests\n",
      "  copying h5py\\tests\\test_h5pl.py -> build\\lib.win32-3.7\\h5py\\tests\n",
      "  copying h5py\\tests\\test_h5t.py -> build\\lib.win32-3.7\\h5py\\tests\n",
      "  copying h5py\\tests\\test_objects.py -> build\\lib.win32-3.7\\h5py\\tests\n",
      "  copying h5py\\tests\\test_selections.py -> build\\lib.win32-3.7\\h5py\\tests\n",
      "  copying h5py\\tests\\test_slicing.py -> build\\lib.win32-3.7\\h5py\\tests\n",
      "  copying h5py\\tests\\__init__.py -> build\\lib.win32-3.7\\h5py\\tests\n",
      "  creating build\\lib.win32-3.7\\h5py\\tests\\data_files\n",
      "  copying h5py\\tests\\data_files\\__init__.py -> build\\lib.win32-3.7\\h5py\\tests\\data_files\n",
      "  creating build\\lib.win32-3.7\\h5py\\tests\\test_vds\n",
      "  copying h5py\\tests\\test_vds\\test_highlevel_vds.py -> build\\lib.win32-3.7\\h5py\\tests\\test_vds\n",
      "  copying h5py\\tests\\test_vds\\test_lowlevel_vds.py -> build\\lib.win32-3.7\\h5py\\tests\\test_vds\n",
      "  copying h5py\\tests\\test_vds\\test_virtual_source.py -> build\\lib.win32-3.7\\h5py\\tests\\test_vds\n",
      "  copying h5py\\tests\\test_vds\\__init__.py -> build\\lib.win32-3.7\\h5py\\tests\\test_vds\n",
      "  copying h5py\\tests\\data_files\\vlen_string_dset.h5 -> build\\lib.win32-3.7\\h5py\\tests\\data_files\n",
      "  copying h5py\\tests\\data_files\\vlen_string_dset_utc.h5 -> build\\lib.win32-3.7\\h5py\\tests\\data_files\n",
      "  copying h5py\\tests\\data_files\\vlen_string_s390x.h5 -> build\\lib.win32-3.7\\h5py\\tests\\data_files\n",
      "  running build_ext\n",
      "  Loading library to get version: hdf5.dll\n",
      "  error: Unable to load dependency HDF5, make sure HDF5 is installed properly\n",
      "  error: [WinError 126] Não foi possível encontrar o módulo especificado\n",
      "  ----------------------------------------\n",
      "  ERROR: Failed building wheel for h5py\n",
      "ERROR: Could not build wheels for h5py which use PEP 517 and cannot be installed directly\n"
     ]
    }
   ],
   "source": [
    "pip install mtcnn"
   ]
  },
  {
   "cell_type": "code",
   "execution_count": 5,
   "id": "german-lending",
   "metadata": {},
   "outputs": [
    {
     "name": "stdout",
     "output_type": "stream",
     "text": [
      "Note: you may need to restart the kernel to use updated packages.\n"
     ]
    },
    {
     "name": "stderr",
     "output_type": "stream",
     "text": [
      "ERROR: Could not find a version that satisfies the requirement tensorflow\n",
      "ERROR: No matching distribution found for tensorflow\n"
     ]
    }
   ],
   "source": [
    "pip install tensorflow"
   ]
  },
  {
   "cell_type": "code",
   "execution_count": null,
   "id": "usual-logistics",
   "metadata": {},
   "outputs": [],
   "source": []
  }
 ],
 "metadata": {
  "kernelspec": {
   "display_name": "Python 3",
   "language": "python",
   "name": "python3"
  },
  "language_info": {
   "codemirror_mode": {
    "name": "ipython",
    "version": 3
   },
   "file_extension": ".py",
   "mimetype": "text/x-python",
   "name": "python",
   "nbconvert_exporter": "python",
   "pygments_lexer": "ipython3",
   "version": "3.7.4"
  }
 },
 "nbformat": 4,
 "nbformat_minor": 5
}
