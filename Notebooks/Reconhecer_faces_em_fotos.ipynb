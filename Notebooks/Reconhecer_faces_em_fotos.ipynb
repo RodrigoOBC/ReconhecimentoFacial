{
 "cells": [
  {
   "cell_type": "code",
   "execution_count": 13,
   "id": "impaired-patch",
   "metadata": {},
   "outputs": [],
   "source": [
    "import cv2 \n",
    "import os"
   ]
  },
  {
   "cell_type": "code",
   "execution_count": 3,
   "id": "independent-webmaster",
   "metadata": {},
   "outputs": [],
   "source": [
    "def buscar_partes(name, path):\n",
    "    for root, dirs, files in os.walk(path):\n",
    "        if (name in files) or (name in dirs):\n",
    "            return os.path.join(root, name)\n",
    "    return buscar_partes(name, os.path.dirname(path))"
   ]
  },
  {
   "cell_type": "code",
   "execution_count": 7,
   "id": "careful-yacht",
   "metadata": {},
   "outputs": [],
   "source": [
    "cv2path = os.path.dirname(cv2.__file__)\n",
    "reconhecimento_facial_xml = buscar_partes('haarcascade_frontalface_alt2.xml', cv2path)\n",
    "clf = cv2.CascadeClassifier(reconhecimento_facial_xml)"
   ]
  },
  {
   "cell_type": "code",
   "execution_count": 33,
   "id": "known-revision",
   "metadata": {},
   "outputs": [],
   "source": [
    "imagem1 = cv2.imread('../static/IMG/Outros/Foto_rosto_homem_1.png')\n",
    "imagem_cinza1 = cv2.cvtColor(imagem,cv2.COLOR_BGR2GRAY)\n",
    "imagem2 = cv2.imread('../static/IMG/Outros/foto_rosto_,mulher_1.jpg')\n",
    "imagem_cinza2 = cv2.cvtColor(imagem2,cv2.COLOR_BGR2GRAY)\n",
    "imagem3 = cv2.imread('../static/IMG/Outros/grupodepessoas_4_pessoas.jpg')\n",
    "imagem_cinza3 = cv2.cvtColor(imagem3,cv2.COLOR_BGR2GRAY)"
   ]
  },
  {
   "cell_type": "code",
   "execution_count": 35,
   "id": "german-lending",
   "metadata": {},
   "outputs": [],
   "source": [
    "rostos1 = clf.detectMultiScale(imagem_cinza1)\n",
    "rostos2 = clf.detectMultiScale(imagem_cinza2)\n",
    "rostos3 = clf.detectMultiScale(imagem_cinza3)"
   ]
  },
  {
   "cell_type": "code",
   "execution_count": 37,
   "id": "usual-logistics",
   "metadata": {},
   "outputs": [
    {
     "data": {
      "text/plain": [
       "array([[103,  76, 304, 304]], dtype=int32)"
      ]
     },
     "execution_count": 37,
     "metadata": {},
     "output_type": "execute_result"
    }
   ],
   "source": [
    "rostos1"
   ]
  },
  {
   "cell_type": "code",
   "execution_count": 52,
   "id": "awful-setup",
   "metadata": {},
   "outputs": [
    {
     "data": {
      "text/plain": [
       "113"
      ]
     },
     "execution_count": 52,
     "metadata": {},
     "output_type": "execute_result"
    }
   ],
   "source": [
    "for (x, y, largura, altura) in rostos1:\n",
    "    cv2.rectangle(imagem1, (x,y), (x+largura , y+altura),(0,255,0), 2)\n",
    "cv2.imshow('Faces', imagem1)\n",
    "cv2.waitKey()"
   ]
  },
  {
   "cell_type": "code",
   "execution_count": 53,
   "id": "neutral-calvin",
   "metadata": {},
   "outputs": [
    {
     "data": {
      "text/plain": [
       "113"
      ]
     },
     "execution_count": 53,
     "metadata": {},
     "output_type": "execute_result"
    }
   ],
   "source": [
    "for (x, y, largura, altura) in rostos2:\n",
    "    cv2.rectangle(imagem2, (x,y), (x+largura , y+altura),(0,255,0), 2)\n",
    "cv2.imshow('Faces', imagem2)\n",
    "cv2.waitKey()"
   ]
  },
  {
   "cell_type": "code",
   "execution_count": 54,
   "id": "comprehensive-summer",
   "metadata": {},
   "outputs": [
    {
     "data": {
      "text/plain": [
       "113"
      ]
     },
     "execution_count": 54,
     "metadata": {},
     "output_type": "execute_result"
    }
   ],
   "source": [
    "for (x, y, largura, altura) in rostos3:\n",
    "    cv2.rectangle(imagem3, (x,y), (x+largura , y+altura),(0,255,0), 2)\n",
    "cv2.imshow('Faces', imagem3)\n",
    "cv2.waitKey()"
   ]
  },
  {
   "cell_type": "code",
   "execution_count": 55,
   "id": "streaming-latest",
   "metadata": {},
   "outputs": [],
   "source": [
    "cv2.destroyAllWindows()"
   ]
  },
  {
   "cell_type": "code",
   "execution_count": null,
   "id": "accessory-authority",
   "metadata": {},
   "outputs": [],
   "source": []
  }
 ],
 "metadata": {
  "kernelspec": {
   "display_name": "Python 3",
   "language": "python",
   "name": "python3"
  },
  "language_info": {
   "codemirror_mode": {
    "name": "ipython",
    "version": 3
   },
   "file_extension": ".py",
   "mimetype": "text/x-python",
   "name": "python",
   "nbconvert_exporter": "python",
   "pygments_lexer": "ipython3",
   "version": "3.8.8"
  }
 },
 "nbformat": 4,
 "nbformat_minor": 5
}
