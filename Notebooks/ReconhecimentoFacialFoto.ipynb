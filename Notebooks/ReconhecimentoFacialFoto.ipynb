{
 "cells": [
  {
   "cell_type": "code",
   "execution_count": 1,
   "id": "portuguese-register",
   "metadata": {},
   "outputs": [],
   "source": [
    "import cv2, os"
   ]
  },
  {
   "cell_type": "code",
   "execution_count": 2,
   "id": "incredible-planning",
   "metadata": {},
   "outputs": [],
   "source": [
    "cap = cv2.VideoCapture(0)"
   ]
  },
  {
   "cell_type": "code",
   "execution_count": 3,
   "id": "korean-contrary",
   "metadata": {},
   "outputs": [],
   "source": [
    "cv2path = os.path.dirname(cv2.__file__)"
   ]
  },
  {
   "cell_type": "code",
   "execution_count": 4,
   "id": "postal-microphone",
   "metadata": {},
   "outputs": [],
   "source": [
    "def find(name, path):\n",
    "     for root, dirs, files in os.walk(path):\n",
    "         if (name in files) or (name in dirs):\n",
    "             return os.path.join(root, name)\n",
    "     return find(name, os.path.dirname(path))"
   ]
  },
  {
   "cell_type": "code",
   "execution_count": 5,
   "id": "italic-extra",
   "metadata": {},
   "outputs": [],
   "source": [
    "reconhecimento_facial_xml = find('haarcascade_frontalface_alt2.xml', cv2path)\n",
    "reconhecimento_olhos_xml = find('haarcascade_eye.xml', cv2path)"
   ]
  },
  {
   "cell_type": "code",
   "execution_count": 6,
   "id": "removable-indicator",
   "metadata": {},
   "outputs": [],
   "source": [
    "clf = cv2.CascadeClassifier(reconhecimento_facial_xml)\n",
    "clo = cv2.CascadeClassifier(reconhecimento_olhos_xml)"
   ]
  },
  {
   "cell_type": "code",
   "execution_count": 7,
   "id": "structural-christianity",
   "metadata": {},
   "outputs": [],
   "source": [
    "cap = cv2.VideoCapture(0)\n",
    "ret, frame = cap.read()\n"
   ]
  },
  {
   "cell_type": "code",
   "execution_count": 8,
   "id": "heated-award",
   "metadata": {},
   "outputs": [],
   "source": [
    "cap.release()"
   ]
  },
  {
   "cell_type": "code",
   "execution_count": 9,
   "id": "physical-preliminary",
   "metadata": {},
   "outputs": [
    {
     "data": {
      "text/plain": [
       "-1"
      ]
     },
     "execution_count": 9,
     "metadata": {},
     "output_type": "execute_result"
    }
   ],
   "source": [
    "cv2.imshow('frame', frame)\n",
    "cv2.waitKey(1)"
   ]
  },
  {
   "cell_type": "code",
   "execution_count": 10,
   "id": "narrative-plain",
   "metadata": {},
   "outputs": [
    {
     "data": {
      "text/plain": [
       "-1"
      ]
     },
     "execution_count": 10,
     "metadata": {},
     "output_type": "execute_result"
    }
   ],
   "source": [
    "cv2.destroyAllWindows()\n",
    "cv2.waitKey(1)"
   ]
  },
  {
   "cell_type": "code",
   "execution_count": 11,
   "id": "divine-demand",
   "metadata": {},
   "outputs": [],
   "source": [
    "frame_olhos,frame_face = frame,frame"
   ]
  },
  {
   "cell_type": "code",
   "execution_count": 12,
   "id": "french-cruise",
   "metadata": {},
   "outputs": [],
   "source": [
    "gray_face = cv2.cvtColor(frame_face, cv2.COLOR_BGR2GRAY)\n",
    "gray_olhos = cv2.cvtColor(frame_olhos, cv2.COLOR_BGR2GRAY)"
   ]
  },
  {
   "cell_type": "code",
   "execution_count": 13,
   "id": "christian-remainder",
   "metadata": {},
   "outputs": [],
   "source": [
    "faces = clf.detectMultiScale(gray_face)\n",
    "olhos = clo.detectMultiScale(gray_olhos)"
   ]
  },
  {
   "cell_type": "code",
   "execution_count": 14,
   "id": "further-animation",
   "metadata": {},
   "outputs": [],
   "source": [
    "for x_face, y_face, w_face, h_face in faces:\n",
    "    cv2.rectangle(frame_face, (x_face, y_face), (x_face+w_face, y_face+h_face), (255, 0, 0))"
   ]
  },
  {
   "cell_type": "code",
   "execution_count": 15,
   "id": "light-prototype",
   "metadata": {},
   "outputs": [
    {
     "data": {
      "text/plain": [
       "-1"
      ]
     },
     "execution_count": 15,
     "metadata": {},
     "output_type": "execute_result"
    }
   ],
   "source": [
    "cv2.imshow('frame', frame_face)\n",
    "cv2.waitKey(1)"
   ]
  },
  {
   "cell_type": "code",
   "execution_count": 16,
   "id": "noble-photograph",
   "metadata": {},
   "outputs": [
    {
     "data": {
      "text/plain": [
       "-1"
      ]
     },
     "execution_count": 16,
     "metadata": {},
     "output_type": "execute_result"
    }
   ],
   "source": [
    "cv2.destroyAllWindows()\n",
    "cv2.waitKey(1)"
   ]
  },
  {
   "cell_type": "code",
   "execution_count": 17,
   "id": "valuable-patient",
   "metadata": {},
   "outputs": [],
   "source": [
    "for x_olhos, y_olhos, w_olhos, h_olhos in olhos:\n",
    "    cv2.rectangle(frame_olhos, (x_olhos, y_olhos), (x_olhos+w_olhos, y_olhos+h_olhos), (255, 0, 0))"
   ]
  },
  {
   "cell_type": "code",
   "execution_count": 18,
   "id": "prerequisite-arcade",
   "metadata": {},
   "outputs": [
    {
     "data": {
      "text/plain": [
       "-1"
      ]
     },
     "execution_count": 18,
     "metadata": {},
     "output_type": "execute_result"
    }
   ],
   "source": [
    "cv2.imshow('frame', frame_olhos)\n",
    "cv2.waitKey(1)"
   ]
  },
  {
   "cell_type": "code",
   "execution_count": 19,
   "id": "actual-distinction",
   "metadata": {},
   "outputs": [
    {
     "data": {
      "text/plain": [
       "-1"
      ]
     },
     "execution_count": 19,
     "metadata": {},
     "output_type": "execute_result"
    }
   ],
   "source": [
    "cv2.destroyAllWindows()\n",
    "cv2.waitKey(1)"
   ]
  }
 ],
 "metadata": {
  "kernelspec": {
   "display_name": "Python 3",
   "language": "python",
   "name": "python3"
  },
  "language_info": {
   "codemirror_mode": {
    "name": "ipython",
    "version": 3
   },
   "file_extension": ".py",
   "mimetype": "text/x-python",
   "name": "python",
   "nbconvert_exporter": "python",
   "pygments_lexer": "ipython3",
   "version": "3.8.1"
  }
 },
 "nbformat": 4,
 "nbformat_minor": 5
}
